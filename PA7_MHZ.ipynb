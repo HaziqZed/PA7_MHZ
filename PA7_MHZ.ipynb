{
 "cells": [
  {
   "cell_type": "markdown",
   "metadata": {},
   "source": [
    "# ProgrammingAssignment7_MHZ\n",
    "---\n",
    "**Author:** Haziq Zed \n",
    "**Version:** 1.0  \n",
    "**Semester:** Fall 2020  \n",
    "\n",
    "This *notebook* contains my solution to **ProgrammingAssignment7_MHZ**\n",
    "\n",
    "- Problem 1:  Awesome first solution."
   ]
  },
  {
   "cell_type": "code",
   "execution_count": 2,
   "metadata": {},
   "outputs": [],
   "source": [
    "import itertools as it\n",
    "import functools\n",
    "import operator"
   ]
  },
  {
   "cell_type": "code",
   "execution_count": 80,
   "metadata": {},
   "outputs": [
    {
     "name": "stdout",
     "output_type": "stream",
     "text": [
      "Enter a five letter word: bathe\n",
      "['bat', 'bah', 'bae', 'bta', 'bth', 'bte', 'bha', 'bht', 'bhe', 'bea', 'bet', 'beh', 'abt', 'abh', 'abe', 'atb', 'ath', 'ate', 'ahb', 'aht', 'ahe', 'aeb', 'aet', 'aeh', 'tba', 'tbh', 'tbe', 'tab', 'tah', 'tae', 'thb', 'tha', 'the', 'teb', 'tea', 'teh', 'hba', 'hbt', 'hbe', 'hab', 'hat', 'hae', 'htb', 'hta', 'hte', 'heb', 'hea', 'het', 'eba', 'ebt', 'ebh', 'eab', 'eat', 'eah', 'etb', 'eta', 'eth', 'ehb', 'eha', 'eht']\n",
      "Enter a five letter word: baits\n",
      "['bai', 'bat', 'bas', 'bia', 'bit', 'bis', 'bta', 'bti', 'bts', 'bsa', 'bsi', 'bst', 'abi', 'abt', 'abs', 'aib', 'ait', 'ais', 'atb', 'ati', 'ats', 'asb', 'asi', 'ast', 'iba', 'ibt', 'ibs', 'iab', 'iat', 'ias', 'itb', 'ita', 'its', 'isb', 'isa', 'ist', 'tba', 'tbi', 'tbs', 'tab', 'tai', 'tas', 'tib', 'tia', 'tis', 'tsb', 'tsa', 'tsi', 'sba', 'sbi', 'sbt', 'sab', 'sai', 'sat', 'sib', 'sia', 'sit', 'stb', 'sta', 'sti']\n",
      "Enter a five letter word: bat\n",
      "Word must be five letters long!\n",
      "[]\n",
      "Enter a five letter word: house\n",
      "['hou', 'hos', 'hoe', 'huo', 'hus', 'hue', 'hso', 'hsu', 'hse', 'heo', 'heu', 'hes', 'ohu', 'ohs', 'ohe', 'ouh', 'ous', 'oue', 'osh', 'osu', 'ose', 'oeh', 'oeu', 'oes', 'uho', 'uhs', 'uhe', 'uoh', 'uos', 'uoe', 'ush', 'uso', 'use', 'ueh', 'ueo', 'ues', 'sho', 'shu', 'she', 'soh', 'sou', 'soe', 'suh', 'suo', 'sue', 'seh', 'seo', 'seu', 'eho', 'ehu', 'ehs', 'eoh', 'eou', 'eos', 'euh', 'euo', 'eus', 'esh', 'eso', 'esu']\n",
      "Enter a five letter word: 0\n",
      "[]\n"
     ]
    }
   ],
   "source": [
    "word=\"\"\n",
    "while word != \"0\":\n",
    "    word = input(\"Enter a five letter word: \")\n",
    "    words = list()\n",
    "    check = True\n",
    "    if check == True:\n",
    "        if len(word) == 5:\n",
    "            check = False\n",
    "            word_tup = it.permutations(word,r=3)\n",
    "\n",
    "            for w in word_tup:\n",
    "                words.append(functools.reduce(operator.add,(w)))\n",
    "        else: \n",
    "            check = False\n",
    "            if word != \"0\":\n",
    "                print('Word must be five letters long!')\n",
    "        print(words)"
   ]
  },
  {
   "cell_type": "markdown",
   "metadata": {},
   "source": [
    "- Problem 2:"
   ]
  },
  {
   "cell_type": "code",
   "execution_count": 159,
   "metadata": {},
   "outputs": [
    {
     "name": "stdout",
     "output_type": "stream",
     "text": [
      "Enter a simple arithmetic expression in words: three times five\n",
      "3 x 5 = 15\n",
      "Enter a simple arithmetic expression in words: two minus one\n",
      "2 - 1 = 1\n",
      "Enter a simple arithmetic expression in words: three plus seven\n",
      "3 + 7 = 10\n",
      "Enter a simple arithmetic expression in words: eight divided by two\n",
      "8 ÷ 2 = 4.0\n",
      "Enter a simple arithmetic expression in words: seven greater than eight\n",
      "I cannot evaluate this expression!\n",
      "Enter a simple arithmetic expression in words: 0\n"
     ]
    }
   ],
   "source": [
    "import operator\n",
    "\n",
    "mappings= {\n",
    "    'one':1,\n",
    "    'two':2,\n",
    "    'three':3,\n",
    "    'four':4,\n",
    "    'five':5,\n",
    "    'six':6,\n",
    "    'seven':7,\n",
    "    'eight':8,\n",
    "    'nine':9 ,\n",
    "    'times': operator.mul,\n",
    "    'divided':operator.truediv,\n",
    "    'plus':operator.add,\n",
    "    'minus':operator.sub\n",
    "}\n",
    "\n",
    "user= ''\n",
    "while user != '0':\n",
    "    user = input(\"Enter a simple arithmetic expression in words: \")\n",
    "    result = ''\n",
    "    if user =='0':\n",
    "        check = False\n",
    "        break\n",
    "    temp = user.split()\n",
    "    check = True\n",
    "    \n",
    "    if check == True:\n",
    "        if temp[1]== 'divided':\n",
    "            op_func = mappings[temp[1]]\n",
    "            result = op_func(mappings[temp[0]],mappings[temp[3]])\n",
    "            print(f'{mappings[temp[0]]} ÷ {mappings[temp[3]]} = {result}')\n",
    "        elif temp[1]== 'times':\n",
    "            op_func = mappings[temp[1]]\n",
    "            result = op_func(mappings[temp[0]],mappings[temp[2]])\n",
    "            print(f'{mappings[temp[0]]} x {mappings[temp[2]]} = {result}')\n",
    "        elif temp[1]== \"plus\":\n",
    "            op_func = mappings[temp[1]]\n",
    "            result = op_func(mappings[temp[0]],mappings[temp[2]])\n",
    "            print(f'{mappings[temp[0]]} + {mappings[temp[2]]} = {result}')\n",
    "        elif temp[1]== \"minus\":\n",
    "            op_func = mappings[temp[1]]\n",
    "            result = op_func(mappings[temp[0]],mappings[temp[2]])\n",
    "            print(f'{mappings[temp[0]]} - {mappings[temp[2]]} = {result}')\n",
    "        else:\n",
    "            check = False\n",
    "            if user != \"0\":\n",
    "                print(\"I cannot evaluate this expression!\")    "
   ]
  }
 ],
 "metadata": {
  "kernelspec": {
   "display_name": "Python 3",
   "language": "python",
   "name": "python3"
  },
  "language_info": {
   "codemirror_mode": {
    "name": "ipython",
    "version": 3
   },
   "file_extension": ".py",
   "mimetype": "text/x-python",
   "name": "python",
   "nbconvert_exporter": "python",
   "pygments_lexer": "ipython3",
   "version": "3.8.3"
  }
 },
 "nbformat": 4,
 "nbformat_minor": 4
}
