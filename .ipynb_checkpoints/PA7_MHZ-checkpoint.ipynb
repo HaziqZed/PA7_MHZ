{
 "cells": [
  {
   "cell_type": "code",
   "execution_count": 2,
   "metadata": {},
   "outputs": [],
   "source": [
    "import itertools as it\n",
    "import functools\n",
    "import operator"
   ]
  },
  {
   "cell_type": "code",
   "execution_count": 49,
   "metadata": {},
   "outputs": [
    {
     "name": "stdout",
     "output_type": "stream",
     "text": [
      "Enter a five letter word: bathe\n"
     ]
    },
    {
     "data": {
      "text/plain": [
       "['bat',\n",
       " 'bah',\n",
       " 'bae',\n",
       " 'bta',\n",
       " 'bth',\n",
       " 'bte',\n",
       " 'bha',\n",
       " 'bht',\n",
       " 'bhe',\n",
       " 'bea',\n",
       " 'bet',\n",
       " 'beh',\n",
       " 'abt',\n",
       " 'abh',\n",
       " 'abe',\n",
       " 'atb',\n",
       " 'ath',\n",
       " 'ate',\n",
       " 'ahb',\n",
       " 'aht',\n",
       " 'ahe',\n",
       " 'aeb',\n",
       " 'aet',\n",
       " 'aeh',\n",
       " 'tba',\n",
       " 'tbh',\n",
       " 'tbe',\n",
       " 'tab',\n",
       " 'tah',\n",
       " 'tae',\n",
       " 'thb',\n",
       " 'tha',\n",
       " 'the',\n",
       " 'teb',\n",
       " 'tea',\n",
       " 'teh',\n",
       " 'hba',\n",
       " 'hbt',\n",
       " 'hbe',\n",
       " 'hab',\n",
       " 'hat',\n",
       " 'hae',\n",
       " 'htb',\n",
       " 'hta',\n",
       " 'hte',\n",
       " 'heb',\n",
       " 'hea',\n",
       " 'het',\n",
       " 'eba',\n",
       " 'ebt',\n",
       " 'ebh',\n",
       " 'eab',\n",
       " 'eat',\n",
       " 'eah',\n",
       " 'etb',\n",
       " 'eta',\n",
       " 'eth',\n",
       " 'ehb',\n",
       " 'eha',\n",
       " 'eht']"
      ]
     },
     "execution_count": 49,
     "metadata": {},
     "output_type": "execute_result"
    }
   ],
   "source": [
    "def generate_trigrams(word):\n",
    "    word = input(\"Enter a five letter word: \")\n",
    "    \n",
    "    words = list()\n",
    "    \n",
    "    word_tup = it.permutations(word,r=3)\n",
    "    \n",
    "    for w in word_tup:\n",
    "        words.append(functools.reduce(operator.add,(w)))\n",
    "        \n",
    "    return words \n",
    "\n",
    "\n",
    "\n",
    "generate_trigrams(word)"
   ]
  },
  {
   "cell_type": "code",
   "execution_count": 34,
   "metadata": {},
   "outputs": [
    {
     "data": {
      "text/plain": [
       "60"
      ]
     },
     "execution_count": 34,
     "metadata": {},
     "output_type": "execute_result"
    }
   ],
   "source": [
    "len(tups)"
   ]
  },
  {
   "cell_type": "code",
   "execution_count": null,
   "metadata": {},
   "outputs": [],
   "source": []
  }
 ],
 "metadata": {
  "kernelspec": {
   "display_name": "Python 3",
   "language": "python",
   "name": "python3"
  },
  "language_info": {
   "codemirror_mode": {
    "name": "ipython",
    "version": 3
   },
   "file_extension": ".py",
   "mimetype": "text/x-python",
   "name": "python",
   "nbconvert_exporter": "python",
   "pygments_lexer": "ipython3",
   "version": "3.8.3"
  }
 },
 "nbformat": 4,
 "nbformat_minor": 4
}
